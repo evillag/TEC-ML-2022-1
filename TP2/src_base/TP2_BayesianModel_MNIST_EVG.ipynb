{
  "cells": [
    {
      "cell_type": "markdown",
      "metadata": {
        "id": "view-in-github",
        "colab_type": "text"
      },
      "source": [
        "<a href=\"https://colab.research.google.com/github/evillag/TEC-ML-2022-1/blob/main/TP2/src_base/TP2_BayesianModel_MNIST_EVG.ipynb\" target=\"_parent\"><img src=\"https://colab.research.google.com/assets/colab-badge.svg\" alt=\"Open In Colab\"/></a>"
      ]
    },
    {
      "cell_type": "code",
      "execution_count": 5,
      "metadata": {
        "pycharm": {
          "name": "#%%\n"
        },
        "id": "fV91T7yxTRaL"
      },
      "outputs": [],
      "source": [
        "import torch\n",
        "import torchvision\n",
        "from PIL import Image\n",
        "import torchvision.transforms.functional as TF\n",
        "import matplotlib.pyplot as plt"
      ]
    },
    {
      "cell_type": "code",
      "source": [
        "%%capture\n",
        "!wget https://github.com/evillag/TEC-ML-2022-1/raw/main/TP2/src_base/mnist_dataset.zip\n",
        "!unzip /content/mnist_dataset.zip"
      ],
      "metadata": {
        "id": "CD_niHaQTuJL"
      },
      "execution_count": 6,
      "outputs": []
    },
    {
      "cell_type": "code",
      "execution_count": 7,
      "metadata": {
        "pycharm": {
          "name": "#%%\n"
        },
        "id": "vXz83R23TRaM",
        "outputId": "5338430a-32b4-473f-a29a-8da3db5e6ecb",
        "colab": {
          "base_uri": "https://localhost:8080/",
          "height": 301
        }
      },
      "outputs": [
        {
          "output_type": "stream",
          "name": "stdout",
          "text": [
            "train dimensions  torch.Size([784, 600])\n",
            "train labels  600\n"
          ]
        },
        {
          "output_type": "display_data",
          "data": {
            "text/plain": [
              "<Figure size 432x288 with 1 Axes>"
            ],
            "image/png": "[encoded data removed]"
          },
          "metadata": {
            "needs_background": "light"
          }
        }
      ],
      "source": [
        "\n",
        "def binarize_image(image_tensor):\n",
        "    image_tensor[image_tensor > 0.5] = 1\n",
        "    image_tensor[image_tensor <= 0.5] = 0\n",
        "    return image_tensor\n",
        "\n",
        "def load_dataset(path = \"mnist_dataset/train\"):\n",
        "    #Open up the dataset\n",
        "    dataset =  torchvision.datasets.ImageFolder(path)   \n",
        "    #print(dataset)\n",
        "    list_images = dataset.imgs\n",
        "    #print(list_images)\n",
        "    train_data_tensor  = None    \n",
        "    labels_training = []\n",
        "    first_tensor = True\n",
        "    #list_images_training =  set(data_labeled.train_ds.x.items)\n",
        "    #print(list_images)\n",
        "    for i in range(0, len(list_images)):\n",
        "        pair_path_label = list_images[i]        \n",
        "        image = Image.open(pair_path_label[0]) \n",
        "        x_tensor = TF.to_tensor(image).squeeze()\n",
        "        x_tensor_bin = binarize_image(x_tensor)\n",
        "\n",
        "        x_tensor_bin_plain = x_tensor_bin.view(x_tensor_bin.shape[0] * x_tensor_bin.shape[1], -1)        \n",
        "        #print(\"tensor \", x_tensor.shape)\n",
        "        #test dataset case        \n",
        "        #if(\"train\" in pair_path_label[0]):\n",
        "        labels_training += [pair_path_label[1]]\n",
        "        # print(pair_path_label)\n",
        "        if(first_tensor):\n",
        "            plt.figure()\n",
        "            plt.imshow(x_tensor_bin)\n",
        "            first_tensor = False\n",
        "            train_data_tensor = x_tensor_bin_plain\n",
        "        else:\n",
        "            train_data_tensor = torch.cat((train_data_tensor, x_tensor_bin_plain), 1)    \n",
        "    return (train_data_tensor, torch.tensor(labels_training))       \n",
        "\n",
        "\n",
        "(train_data_tensor, labels_training) = load_dataset(path = \"/content/mnist_dataset/train\")\n",
        "print(\"train dimensions \", train_data_tensor.shape)\n",
        "print(\"train labels \", len(labels_training))        \n",
        "    \n"
      ]
    },
    {
      "cell_type": "code",
      "execution_count": 8,
      "outputs": [
        {
          "output_type": "stream",
          "name": "stdout",
          "text": [
            "p_m_0_given_k shape torch.Size([10, 784])\n",
            "p_m_pix_val_given_k[0] size torch.Size([10, 784])\n",
            "p_m_pix_val_given_k[1] size torch.Size([10, 784])\n",
            "p_t_tensor \n",
            "\tclasses: torch.Size([10]).\n",
            "\tValues: tensor([0.1000, 0.1000, 0.1000, 0.1000, 0.1000, 0.1000, 0.1000, 0.1000, 0.1000,\n",
            "        0.1000])\n",
            "predicted_label  tensor(8)\n",
            "real label  tensor(8)\n",
            "Model accuracy  0.9166666666666666\n"
          ]
        }
      ],
      "source": [
        "# def _multiplication_test_model(input_torch, p_m_pix_val_given_k, p_t_tensor, \n",
        "#                                num_classes = 10):\n",
        "#     #assumes that the input comes in a row\n",
        "#     prob_naive_bayes = torch.zeros(num_classes, train_data_tensor.shape[0])\n",
        "#     scores_classes = torch.zeros(10)\n",
        "#     bias = 1.\n",
        "  \n",
        "#     for k in range(num_classes):\n",
        "#       idx_0 = (input_torch == 0.)\n",
        "#       idx_1 = (input_torch == 1.)\n",
        "#       prob_naive_bayes[k, idx_0] = (p_m_pix_val_given_k[0][k, idx_0] * p_t_tensor[k]) + bias\n",
        "#       prob_naive_bayes[k, idx_1] = (p_m_pix_val_given_k[1][k, idx_1] * p_t_tensor[k]) + bias\n",
        "#       scores_classes[k] = torch.prod(prob_naive_bayes[k,:], dtype=torch.double)\n",
        "\n",
        "#     values, indices = scores_classes.topk(1)\n",
        "#     predicted_label = indices[0]\n",
        "#     #print(scores_classes)\n",
        "#     #print(f'predicted_label: {indices[0]}. Score = {values[0]}')\n",
        "    \n",
        "#     return predicted_label, scores_classes\n",
        "\n",
        "def test_model(input_torch, p_m_pix_val_given_k, p_t_tensor, \n",
        "                               num_classes = 10):\n",
        "    # assumes that the input comes in a row\n",
        "    # Since the multiplicatory tends to give very small values, close to 0\n",
        "    # We are transforming the Naive Bayes by applying a log to it, so that:\n",
        "    # log(Mul(p(m|t)p(t))) = Sum(log(p(m|t)) + log(p(t)))\n",
        "\n",
        "    prob_naive_bayes = torch.zeros(num_classes, train_data_tensor.shape[0])\n",
        "    scores_classes = torch.zeros(10)\n",
        "      \n",
        "    for k in range(num_classes):\n",
        "      idx_0 = (input_torch == 0.) # indices of all pixels in 0\n",
        "      idx_1 = (input_torch == 1.) # indices of all pixels in 1\n",
        "\n",
        "      # probability of pixels = 0 given k:\n",
        "      prob_naive_bayes[k, idx_0] = torch.log(p_m_pix_val_given_k[0][k, idx_0]) + torch.log(p_t_tensor[k])\n",
        "\n",
        "      # probability of pixels = 1 given k:\n",
        "      prob_naive_bayes[k, idx_1] = torch.log(p_m_pix_val_given_k[1][k, idx_1]) + torch.log(p_t_tensor[k])\n",
        "\n",
        "      # calculate the class probability\n",
        "      scores_classes[k] = torch.sum(prob_naive_bayes[k,:], dtype=torch.double)\n",
        "\n",
        "    values, indices = scores_classes.topk(1)\n",
        "    predicted_label = indices[0]\n",
        "    #print(scores_classes)\n",
        "    #print(f'predicted_label: {indices[0]}. Score = {values[0]}')\n",
        "    \n",
        "    return predicted_label, scores_classes\n",
        "\n",
        "\n",
        "def test_model_batch(test_set, labels, p_m_pix_val_given_k, p_t_tensor):\n",
        "    correct = 0\n",
        "    \n",
        "    for i in range(labels.shape[0]):\n",
        "      predicted_label, _ = test_model(test_set[:,i], p_m_pix_val_given_k, \n",
        "                                      p_t_tensor)\n",
        "      correct += 1 if predicted_label == labels[i] else 0\n",
        "      # print(f'predicted = {predicted_label}. real = {labels[i]}')\n",
        "\n",
        "    accuracy = correct / labels.shape[0]\n",
        "    return accuracy\n",
        "\n",
        "\n",
        "def train_model(train_data_tensor, labels_training, num_classes = 10):\n",
        "  p_m_0_given_k = torch.zeros(num_classes, train_data_tensor.shape[0])\n",
        "  p_m_1_given_k = torch.ones(num_classes, train_data_tensor.shape[0])\n",
        "  \n",
        "  print(f'p_m_0_given_k shape {p_m_0_given_k.shape}')\n",
        "  \n",
        "  _, counts = torch.unique(labels_training, return_counts=True)\n",
        "  p_t_tensor = counts / len(labels_training)\n",
        "\n",
        "  for k in range(num_classes):\n",
        "    training_indices_of_class_k = (labels_training == k).nonzero().squeeze(1)\n",
        "    M_d = train_data_tensor[:, training_indices_of_class_k]\n",
        "\n",
        "    # p(m = 0 | k) =>  (observations == 0) / (total observations of class k)\n",
        "    p_m_0_given_k[k, :] = (M_d == 0.).sum(dim=1).div(M_d.shape[1])\n",
        "\n",
        "  # calculate complement => p(m = 1 | k)\n",
        "  p_m_1_given_k = p_m_1_given_k - p_m_0_given_k\n",
        "\n",
        "  return [p_m_0_given_k, p_m_1_given_k], p_t_tensor\n",
        "    \n",
        "\n",
        "\n",
        "\n",
        "#(train_data_tensor, labels_training) = load_dataset()\n",
        "#print(\"train dimensions \", train_data_tensor.shape)\n",
        "#print(\"train labels \", len(labels_training))\n",
        "\n",
        "#train model by calculating the prior probabilities\n",
        "(p_m_pix_val_given_k, p_t_tensor) = train_model(train_data_tensor, labels_training)\n",
        "print(f\"p_m_pix_val_given_k[0] size {p_m_pix_val_given_k[0].shape}\")\n",
        "print(f\"p_m_pix_val_given_k[1] size {p_m_pix_val_given_k[1].shape}\")\n",
        "print(f\"p_t_tensor \\n\\tclasses: {p_t_tensor.shape}.\\n\\tValues: {p_t_tensor}\")\n",
        "\n",
        "\n",
        "(predicted_label, scores_classes) = test_model(train_data_tensor[:, 500], p_m_pix_val_given_k, p_t_tensor)\n",
        "print(\"predicted_label \", predicted_label)\n",
        "print(\"real label \", labels_training[500])\n",
        "acc = test_model_batch(train_data_tensor, labels_training, p_m_pix_val_given_k, p_t_tensor)\n",
        "print(\"Model accuracy \", acc)\n",
        "    \n"
      ],
      "metadata": {
        "pycharm": {
          "name": "#%%\n"
        },
        "id": "FRo23D7FTRaO",
        "outputId": "b988c33e-1099-4f17-bff8-caa88906fb4d",
        "colab": {
          "base_uri": "https://localhost:8080/"
        }
      }
    }
  ],
  "metadata": {
    "kernelspec": {
      "display_name": "Python 3 (ipykernel)",
      "language": "python",
      "name": "python3"
    },
    "language_info": {
      "codemirror_mode": {
        "name": "ipython",
        "version": 3
      },
      "file_extension": ".py",
      "mimetype": "text/x-python",
      "name": "python",
      "nbconvert_exporter": "python",
      "pygments_lexer": "ipython3",
      "version": "3.9.7"
    },
    "colab": {
      "name": "TP2_BayesianModel_MNIST_EVG.ipynb",
      "provenance": [],
      "collapsed_sections": [],
      "include_colab_link": true
    }
  },
  "nbformat": 4,
  "nbformat_minor": 0
}