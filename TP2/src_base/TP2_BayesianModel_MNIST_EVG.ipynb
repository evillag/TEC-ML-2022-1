{
  "cells": [
    {
      "cell_type": "markdown",
      "metadata": {
        "id": "view-in-github",
        "colab_type": "text"
      },
      "source": [
        "<a href=\"https://colab.research.google.com/github/evillag/TEC-ML-2022-1/blob/main/TP2/src_base/TP2_BayesianModel_MNIST_EVG.ipynb\" target=\"_parent\"><img src=\"https://colab.research.google.com/assets/colab-badge.svg\" alt=\"Open In Colab\"/></a>"
      ]
    },
    {
      "cell_type": "code",
      "execution_count": null,
      "metadata": {
        "pycharm": {
          "name": "#%%\n"
        },
        "id": "fV91T7yxTRaL"
      },
      "outputs": [],
      "source": [
        "import torch\n",
        "import torchvision\n",
        "from PIL import Image\n",
        "import torchvision.transforms.functional as TF\n",
        "import matplotlib.pyplot as plt"
      ]
    },
    {
      "cell_type": "code",
      "source": [
        "%%capture\n",
        "!wget https://github.com/evillag/TEC-ML-2022-1/raw/main/TP2/src_base/mnist_dataset.zip\n",
        "!unzip /content/mnist_dataset.zip"
      ],
      "metadata": {
        "id": "CD_niHaQTuJL"
      },
      "execution_count": null,
      "outputs": []
    },
    {
      "cell_type": "code",
      "execution_count": null,
      "metadata": {
        "pycharm": {
          "name": "#%%\n"
        },
        "id": "vXz83R23TRaM",
        "outputId": "f5f8dbc3-131c-422c-c711-c8e494b27f25",
        "colab": {
          "base_uri": "https://localhost:8080/",
          "height": 300
        }
      },
      "outputs": [
        {
          "output_type": "stream",
          "name": "stdout",
          "text": [
            "train dimensions  torch.Size([784, 600])\n",
            "train labels  600\n"
          ]
        },
        {
          "output_type": "display_data",
          "data": {
            "text/plain": [
              "<Figure size 432x288 with 1 Axes>"
            ],
            "image/png": "[encoded data removed]"
          },
          "metadata": {
            "needs_background": "light"
          }
        }
      ],
      "source": [
        "\n",
        "def binarize_image(image_tensor):\n",
        "    image_tensor[image_tensor > 0.5] = 1\n",
        "    image_tensor[image_tensor <= 0.5] = 0\n",
        "    return image_tensor\n",
        "\n",
        "def load_dataset(path = \"mnist_dataset/train\"):\n",
        "    #Open up the dataset\n",
        "    dataset =  torchvision.datasets.ImageFolder(path)   \n",
        "    #print(dataset)\n",
        "    list_images = dataset.imgs\n",
        "    #print(list_images)\n",
        "    train_data_tensor  = None    \n",
        "    labels_training = []\n",
        "    first_tensor = True\n",
        "    #list_images_training =  set(data_labeled.train_ds.x.items)\n",
        "    #print(list_images)\n",
        "    for i in range(0, len(list_images)):\n",
        "        pair_path_label = list_images[i]        \n",
        "        image = Image.open(pair_path_label[0]) \n",
        "        x_tensor = TF.to_tensor(image).squeeze()\n",
        "        x_tensor_bin = binarize_image(x_tensor)\n",
        "\n",
        "        x_tensor_bin_plain = x_tensor_bin.view(x_tensor_bin.shape[0] * x_tensor_bin.shape[1], -1)        \n",
        "        #print(\"tensor \", x_tensor.shape)\n",
        "        #test dataset case        \n",
        "        #if(\"train\" in pair_path_label[0]):\n",
        "        labels_training += [pair_path_label[1]]\n",
        "        # print(pair_path_label)\n",
        "        if(first_tensor):\n",
        "            plt.figure()\n",
        "            plt.imshow(x_tensor_bin)\n",
        "            first_tensor = False\n",
        "            train_data_tensor = x_tensor_bin_plain\n",
        "        else:\n",
        "            train_data_tensor = torch.cat((train_data_tensor, x_tensor_bin_plain), 1)    \n",
        "    return (train_data_tensor, torch.tensor(labels_training))       \n",
        "\n",
        "\n",
        "(train_data_tensor, labels_training) = load_dataset(path = \"/content/mnist_dataset/train\")\n",
        "print(\"train dimensions \", train_data_tensor.shape)\n",
        "print(\"train labels \", len(labels_training))        \n",
        "    \n"
      ]
    },
    {
      "cell_type": "code",
      "execution_count": 137,
      "outputs": [
        {
          "output_type": "stream",
          "name": "stdout",
          "text": [
            "p_m_0_given_k shape torch.Size([10, 784])\n",
            "Quick sample of a priori probabilities\n",
            "tensor([1.0000, 0.9833, 0.9000, 0.8167, 0.7500, 0.6167, 0.5167, 0.5000, 0.5000,\n",
            "        0.4833, 0.5167, 0.4833, 0.3833, 0.4000, 0.6000, 0.6667, 0.7167, 0.8167,\n",
            "        0.9000, 0.9500, 1.0000, 1.0000, 1.0000, 1.0000, 1.0000, 1.0000, 1.0000,\n",
            "        1.0000, 0.9833, 0.9500, 0.8833, 0.8333, 0.7833, 0.6667, 0.6333, 0.6333,\n",
            "        0.6667, 0.6500, 0.6333, 0.6167, 0.5000, 0.4333, 0.6000, 0.6833, 0.7167,\n",
            "        0.8167, 0.8833, 0.9333, 1.0000, 1.0000, 1.0000, 1.0000, 1.0000, 1.0000,\n",
            "        1.0000, 1.0000, 0.9833, 0.9333, 0.9000, 0.8667, 0.8667, 0.8333, 0.8000,\n",
            "        0.7833, 0.8167, 0.7833, 0.7833, 0.7167, 0.5833, 0.5333, 0.5667, 0.6500,\n",
            "        0.7167, 0.8000, 0.9000, 0.9500, 1.0000, 1.0000, 1.0000, 1.0000, 1.0000,\n",
            "        1.0000, 1.0000, 1.0000, 1.0000, 0.9667, 0.9333, 0.9500, 0.8833, 0.8833,\n",
            "        0.9000, 0.8833, 0.9333, 0.9000, 0.8500, 0.7000, 0.5833, 0.5333, 0.6000,\n",
            "        0.6167])\n",
            "tensor([0.0000, 0.0167, 0.1000, 0.1833, 0.2500, 0.3833, 0.4833, 0.5000, 0.5000,\n",
            "        0.5167, 0.4833, 0.5167, 0.6167, 0.6000, 0.4000, 0.3333, 0.2833, 0.1833,\n",
            "        0.1000, 0.0500, 0.0000, 0.0000, 0.0000, 0.0000, 0.0000, 0.0000, 0.0000,\n",
            "        0.0000, 0.0167, 0.0500, 0.1167, 0.1667, 0.2167, 0.3333, 0.3667, 0.3667,\n",
            "        0.3333, 0.3500, 0.3667, 0.3833, 0.5000, 0.5667, 0.4000, 0.3167, 0.2833,\n",
            "        0.1833, 0.1167, 0.0667, 0.0000, 0.0000, 0.0000, 0.0000, 0.0000, 0.0000,\n",
            "        0.0000, 0.0000, 0.0167, 0.0667, 0.1000, 0.1333, 0.1333, 0.1667, 0.2000,\n",
            "        0.2167, 0.1833, 0.2167, 0.2167, 0.2833, 0.4167, 0.4667, 0.4333, 0.3500,\n",
            "        0.2833, 0.2000, 0.1000, 0.0500, 0.0000, 0.0000, 0.0000, 0.0000, 0.0000,\n",
            "        0.0000, 0.0000, 0.0000, 0.0000, 0.0333, 0.0667, 0.0500, 0.1167, 0.1167,\n",
            "        0.1000, 0.1167, 0.0667, 0.1000, 0.1500, 0.3000, 0.4167, 0.4667, 0.4000,\n",
            "        0.3833])\n",
            "p_m_pix_val_given_k[0] size torch.Size([10, 784])\n",
            "p_m_pix_val_given_k[1] size torch.Size([10, 784])\n",
            "p_t_tensor \n",
            "\tclasses: torch.Size([10]).\n",
            "\tValues: tensor([0.1000, 0.1000, 0.1000, 0.1000, 0.1000, 0.1000, 0.1000, 0.1000, 0.1000,\n",
            "        0.1000])\n"
          ]
        }
      ],
      "source": [
        "def test_model(input_torch, p_m_pix_val_given_k, p_t_tensor, num_classes = 10):\n",
        "    #assumes that the input comes in a row\n",
        "    #TODO IMPLEMENT\n",
        "    #return (predicted_label, scores_classes)\n",
        "    pass\n",
        "\n",
        "def test_model_batch(test_set, labels, p_m_pix_val_given_k, p_t_tensor):\n",
        "    return 0.0\n",
        "\n",
        "\n",
        "def train_model(train_data_tensor, labels_training, num_classes = 10):\n",
        "  p_m_0_given_k = torch.zeros(num_classes, train_data_tensor.shape[0])\n",
        "  p_m_1_given_k = torch.ones(num_classes, train_data_tensor.shape[0])\n",
        "  \n",
        "  print(f'p_m_0_given_k shape {p_m_0_given_k.shape}')\n",
        "  \n",
        "  _, counts = torch.unique(labels_training, return_counts=True)\n",
        "  p_t_tensor = counts / len(labels_training)\n",
        "\n",
        "  for k in range(num_classes):\n",
        "    training_indices_of_class_k = (labels_training == k).nonzero().squeeze(1)\n",
        "    m = train_data_tensor[:, training_indices_of_class_k]\n",
        "\n",
        "    # p(m = 0 | k) =>  (observations == 0) / (total observations of class k)\n",
        "    p_m_0_given_k[k, :] = (m == 0.).sum(dim=1).div(m.shape[1])\n",
        "\n",
        "  # calculate complement => p(m = 1 | k)\n",
        "  p_m_1_given_k = p_m_1_given_k - p_m_0_given_k\n",
        "\n",
        "  return [p_m_0_given_k, p_m_1_given_k], p_t_tensor\n",
        "    \n",
        "\n",
        "\n",
        "\n",
        "#(train_data_tensor, labels_training) = load_dataset()\n",
        "#print(\"train dimensions \", train_data_tensor.shape)\n",
        "#print(\"train labels \", len(labels_training))\n",
        "\n",
        "#train model by calculating the prior probabilities\n",
        "(p_m_pix_val_given_k, p_t_tensor) = train_model(train_data_tensor, labels_training)\n",
        "print(f\"p_m_pix_val_given_k[0] size {p_m_pix_val_given_k[0].shape}\")\n",
        "print(f\"p_m_pix_val_given_k[1] size {p_m_pix_val_given_k[1].shape}\")\n",
        "print(f\"p_t_tensor \\n\\tclasses: {p_t_tensor.shape}.\\n\\tValues: {p_t_tensor}\")\n",
        "\n",
        "\n",
        "# (predicted_label, scores_classes) = test_model(train_data_tensor[:, 500], p_m_pix_val_given_k, p_t_tensor)\n",
        "# print(\"predicted_label \", predicted_label)\n",
        "# print(\"real label \", labels_training[500])\n",
        "# acc = test_model_batch(train_data_tensor, labels_training, p_m_pix_val_given_k, p_t_tensor)\n",
        "# print(\"Model accuracy \", acc)\n",
        "    \n"
      ],
      "metadata": {
        "pycharm": {
          "name": "#%%\n"
        },
        "id": "FRo23D7FTRaO",
        "outputId": "4b5290d0-a44d-4847-8dfc-67bdbca80c3f",
        "colab": {
          "base_uri": "https://localhost:8080/"
        }
      }
    },
    {
      "cell_type": "code",
      "source": [
        "filtrado = (labels_training == 0).nonzero()\n",
        "filtrado.squeeze(1).shape\n"
      ],
      "metadata": {
        "colab": {
          "base_uri": "https://localhost:8080/"
        },
        "id": "KeAut_SsZEMz",
        "outputId": "e74ed4cc-4408-43ed-9034-34a6d2f6da45"
      },
      "execution_count": 71,
      "outputs": [
        {
          "output_type": "execute_result",
          "data": {
            "text/plain": [
              "torch.Size([60])"
            ]
          },
          "metadata": {},
          "execution_count": 71
        }
      ]
    },
    {
      "cell_type": "code",
      "source": [
        "tensor_clase_k = train_data_tensor[:,filtrado]\n",
        "print(f'shape filtrado {tensor_clase_k.shape}')\n",
        "\n",
        "p_m_0_given_k = torch.zeros(10, train_data_tensor.shape[0])\n",
        "print(f'p_m_0_given_k shape {p_m_0_given_k.shape}')\n",
        "p_m_0_given_k[0,:] = (tensor_clase_k == 0.).sum(dim=1).div(tensor_clase_k.shape[1])\n",
        "p_m_0_given_k[0,:]"
      ],
      "metadata": {
        "colab": {
          "base_uri": "https://localhost:8080/"
        },
        "id": "FyGXBrpCYxfH",
        "outputId": "88a6d61e-22ea-4f74-8dae-ddadc8fc0b5a"
      },
      "execution_count": 119,
      "outputs": [
        {
          "output_type": "stream",
          "name": "stdout",
          "text": [
            "shape filtrado torch.Size([784, 60])\n",
            "p_m_0_given_k shape torch.Size([10, 784])\n"
          ]
        },
        {
          "output_type": "execute_result",
          "data": {
            "text/plain": [
              "tensor([1.0000, 1.0000, 1.0000, 1.0000, 1.0000, 1.0000, 1.0000, 1.0000, 1.0000,\n",
              "        1.0000, 1.0000, 1.0000, 1.0000, 1.0000, 1.0000, 1.0000, 1.0000, 1.0000,\n",
              "        1.0000, 1.0000, 1.0000, 1.0000, 1.0000, 1.0000, 1.0000, 1.0000, 1.0000,\n",
              "        1.0000, 1.0000, 1.0000, 1.0000, 1.0000, 1.0000, 1.0000, 1.0000, 1.0000,\n",
              "        1.0000, 1.0000, 1.0000, 1.0000, 1.0000, 1.0000, 1.0000, 1.0000, 1.0000,\n",
              "        1.0000, 1.0000, 1.0000, 1.0000, 1.0000, 1.0000, 1.0000, 1.0000, 1.0000,\n",
              "        1.0000, 1.0000, 1.0000, 1.0000, 1.0000, 1.0000, 1.0000, 1.0000, 1.0000,\n",
              "        1.0000, 1.0000, 1.0000, 1.0000, 1.0000, 1.0000, 1.0000, 1.0000, 1.0000,\n",
              "        1.0000, 1.0000, 1.0000, 1.0000, 1.0000, 1.0000, 1.0000, 1.0000, 1.0000,\n",
              "        1.0000, 1.0000, 1.0000, 1.0000, 1.0000, 1.0000, 1.0000, 1.0000, 1.0000,\n",
              "        1.0000, 1.0000, 1.0000, 1.0000, 1.0000, 1.0000, 1.0000, 0.9833, 0.9833,\n",
              "        0.9833, 0.9500, 0.9833, 1.0000, 1.0000, 1.0000, 1.0000, 1.0000, 1.0000,\n",
              "        1.0000, 1.0000, 1.0000, 1.0000, 1.0000, 1.0000, 1.0000, 1.0000, 1.0000,\n",
              "        1.0000, 1.0000, 1.0000, 1.0000, 0.9833, 0.9833, 0.9667, 0.9333, 0.8167,\n",
              "        0.6667, 0.6833, 0.6333, 0.6333, 0.8167, 0.9000, 0.9500, 0.9833, 0.9833,\n",
              "        0.9833, 1.0000, 1.0000, 1.0000, 1.0000, 1.0000, 1.0000, 1.0000, 1.0000,\n",
              "        1.0000, 1.0000, 1.0000, 1.0000, 0.9833, 0.9500, 0.8833, 0.8000, 0.7167,\n",
              "        0.5167, 0.4333, 0.3833, 0.3500, 0.4167, 0.5833, 0.7333, 0.8167, 0.9167,\n",
              "        0.9833, 0.9833, 0.9833, 1.0000, 1.0000, 1.0000, 1.0000, 1.0000, 1.0000,\n",
              "        1.0000, 1.0000, 1.0000, 1.0000, 1.0000, 0.9333, 0.8333, 0.6833, 0.5833,\n",
              "        0.4667, 0.4000, 0.3000, 0.3000, 0.2833, 0.3000, 0.3667, 0.5333, 0.6333,\n",
              "        0.6833, 0.8500, 0.9333, 0.9833, 1.0000, 1.0000, 1.0000, 1.0000, 1.0000,\n",
              "        1.0000, 1.0000, 1.0000, 1.0000, 1.0000, 1.0000, 0.8667, 0.7167, 0.6167,\n",
              "        0.4333, 0.3333, 0.3167, 0.2333, 0.2500, 0.2500, 0.3167, 0.2667, 0.4000,\n",
              "        0.4667, 0.6333, 0.7000, 0.8667, 0.9667, 1.0000, 1.0000, 1.0000, 1.0000,\n",
              "        1.0000, 1.0000, 1.0000, 1.0000, 1.0000, 0.9833, 0.9000, 0.7333, 0.6500,\n",
              "        0.5500, 0.4167, 0.3667, 0.2500, 0.3500, 0.4333, 0.4000, 0.3833, 0.3333,\n",
              "        0.3500, 0.3667, 0.5333, 0.6833, 0.8167, 0.9500, 1.0000, 1.0000, 1.0000,\n",
              "        1.0000, 1.0000, 1.0000, 1.0000, 1.0000, 1.0000, 0.9000, 0.8000, 0.7000,\n",
              "        0.5833, 0.4333, 0.4000, 0.3167, 0.4500, 0.5500, 0.5833, 0.6833, 0.6167,\n",
              "        0.5167, 0.4167, 0.4667, 0.5000, 0.6500, 0.8000, 0.9333, 1.0000, 1.0000,\n",
              "        1.0000, 1.0000, 1.0000, 1.0000, 1.0000, 1.0000, 0.9833, 0.8500, 0.7167,\n",
              "        0.6667, 0.4333, 0.3167, 0.3667, 0.4167, 0.5833, 0.6667, 0.8000, 0.8167,\n",
              "        0.7500, 0.5833, 0.5167, 0.4167, 0.4500, 0.5000, 0.6833, 0.9167, 1.0000,\n",
              "        1.0000, 1.0000, 1.0000, 1.0000, 1.0000, 1.0000, 1.0000, 0.9333, 0.8167,\n",
              "        0.6833, 0.5167, 0.3167, 0.3167, 0.4000, 0.5667, 0.7500, 0.8333, 0.8833,\n",
              "        0.9000, 0.8000, 0.7333, 0.5333, 0.3833, 0.3833, 0.4500, 0.6500, 0.9000,\n",
              "        1.0000, 1.0000, 1.0000, 1.0000, 1.0000, 1.0000, 1.0000, 1.0000, 0.8833,\n",
              "        0.7333, 0.6000, 0.3500, 0.2833, 0.3167, 0.5167, 0.7167, 0.8333, 0.9000,\n",
              "        0.9500, 0.9833, 0.9167, 0.8167, 0.6167, 0.4333, 0.3833, 0.4000, 0.6167,\n",
              "        0.8667, 1.0000, 1.0000, 1.0000, 1.0000, 1.0000, 1.0000, 1.0000, 1.0000,\n",
              "        0.8667, 0.6833, 0.4833, 0.2500, 0.3000, 0.5000, 0.7000, 0.8167, 0.9500,\n",
              "        0.9833, 0.9833, 1.0000, 0.9167, 0.8667, 0.5833, 0.4667, 0.2833, 0.4333,\n",
              "        0.6000, 0.8833, 1.0000, 1.0000, 1.0000, 1.0000, 1.0000, 1.0000, 1.0000,\n",
              "        0.9833, 0.8000, 0.6000, 0.3667, 0.2167, 0.3667, 0.6333, 0.8000, 0.9000,\n",
              "        0.9833, 1.0000, 1.0000, 1.0000, 0.9500, 0.8667, 0.5667, 0.4333, 0.3167,\n",
              "        0.4500, 0.6333, 0.8833, 1.0000, 1.0000, 1.0000, 1.0000, 1.0000, 1.0000,\n",
              "        1.0000, 0.9667, 0.7167, 0.5167, 0.2500, 0.2667, 0.5000, 0.7000, 0.8500,\n",
              "        0.9667, 1.0000, 1.0000, 1.0000, 1.0000, 0.9500, 0.7833, 0.5333, 0.3500,\n",
              "        0.3333, 0.4833, 0.6833, 0.9000, 1.0000, 1.0000, 1.0000, 1.0000, 1.0000,\n",
              "        1.0000, 1.0000, 0.9500, 0.6667, 0.4333, 0.2500, 0.2833, 0.6167, 0.7833,\n",
              "        0.9000, 0.9500, 1.0000, 1.0000, 0.9833, 0.9500, 0.8667, 0.6333, 0.4667,\n",
              "        0.3167, 0.3833, 0.5333, 0.7333, 0.9500, 1.0000, 1.0000, 1.0000, 1.0000,\n",
              "        1.0000, 1.0000, 1.0000, 0.9167, 0.6667, 0.3833, 0.2833, 0.3167, 0.6000,\n",
              "        0.8667, 0.8833, 0.9333, 0.9833, 0.9833, 0.9667, 0.8833, 0.6833, 0.5167,\n",
              "        0.4333, 0.3333, 0.5000, 0.6500, 0.7833, 0.9500, 1.0000, 1.0000, 1.0000,\n",
              "        1.0000, 1.0000, 1.0000, 1.0000, 0.9167, 0.6167, 0.4167, 0.3333, 0.3333,\n",
              "        0.6000, 0.7667, 0.8333, 0.8833, 0.8833, 0.8667, 0.7833, 0.6333, 0.5167,\n",
              "        0.4167, 0.3667, 0.4500, 0.5833, 0.7667, 0.8833, 1.0000, 1.0000, 1.0000,\n",
              "        1.0000, 1.0000, 1.0000, 1.0000, 1.0000, 0.9000, 0.6333, 0.4500, 0.3000,\n",
              "        0.3500, 0.4000, 0.6000, 0.7000, 0.7667, 0.7833, 0.6500, 0.5167, 0.4833,\n",
              "        0.3833, 0.3833, 0.3833, 0.5000, 0.6833, 0.8167, 0.9333, 1.0000, 1.0000,\n",
              "        1.0000, 1.0000, 1.0000, 1.0000, 1.0000, 1.0000, 0.9167, 0.7667, 0.5000,\n",
              "        0.3167, 0.3333, 0.2500, 0.3333, 0.4500, 0.5333, 0.4833, 0.4500, 0.3667,\n",
              "        0.3833, 0.3167, 0.3667, 0.5333, 0.6333, 0.8167, 0.9167, 1.0000, 1.0000,\n",
              "        1.0000, 1.0000, 1.0000, 1.0000, 1.0000, 1.0000, 1.0000, 0.9833, 0.8333,\n",
              "        0.6500, 0.5167, 0.3000, 0.1833, 0.1167, 0.1500, 0.3000, 0.2333, 0.2167,\n",
              "        0.2833, 0.2833, 0.4167, 0.5000, 0.6333, 0.8167, 0.9500, 0.9833, 1.0000,\n",
              "        1.0000, 1.0000, 1.0000, 1.0000, 1.0000, 1.0000, 1.0000, 1.0000, 1.0000,\n",
              "        0.9500, 0.8000, 0.7167, 0.5500, 0.2500, 0.2167, 0.1333, 0.1333, 0.2667,\n",
              "        0.3167, 0.4000, 0.4333, 0.5833, 0.7000, 0.8333, 0.9667, 1.0000, 1.0000,\n",
              "        1.0000, 1.0000, 1.0000, 1.0000, 1.0000, 1.0000, 1.0000, 1.0000, 1.0000,\n",
              "        1.0000, 1.0000, 0.9500, 0.8833, 0.8167, 0.7833, 0.6667, 0.5000, 0.4500,\n",
              "        0.4333, 0.5000, 0.6167, 0.7333, 0.8500, 0.9667, 1.0000, 1.0000, 1.0000,\n",
              "        1.0000, 1.0000, 1.0000, 1.0000, 1.0000, 1.0000, 1.0000, 1.0000, 1.0000,\n",
              "        1.0000, 1.0000, 1.0000, 1.0000, 1.0000, 1.0000, 1.0000, 0.9833, 0.9667,\n",
              "        0.9000, 0.8833, 0.9000, 0.9333, 0.9833, 1.0000, 1.0000, 1.0000, 1.0000,\n",
              "        1.0000, 1.0000, 1.0000, 1.0000, 1.0000, 1.0000, 1.0000, 1.0000, 1.0000,\n",
              "        1.0000, 1.0000, 1.0000, 1.0000, 1.0000, 1.0000, 1.0000, 1.0000, 1.0000,\n",
              "        1.0000, 1.0000, 1.0000, 1.0000, 1.0000, 1.0000, 1.0000, 1.0000, 1.0000,\n",
              "        1.0000, 1.0000, 1.0000, 1.0000, 1.0000, 1.0000, 1.0000, 1.0000, 1.0000,\n",
              "        1.0000, 1.0000, 1.0000, 1.0000, 1.0000, 1.0000, 1.0000, 1.0000, 1.0000,\n",
              "        1.0000, 1.0000, 1.0000, 1.0000, 1.0000, 1.0000, 1.0000, 1.0000, 1.0000,\n",
              "        1.0000, 1.0000, 1.0000, 1.0000, 1.0000, 1.0000, 1.0000, 1.0000, 1.0000,\n",
              "        1.0000, 1.0000, 1.0000, 1.0000, 1.0000, 1.0000, 1.0000, 1.0000, 1.0000,\n",
              "        1.0000, 1.0000, 1.0000, 1.0000, 1.0000, 1.0000, 1.0000, 1.0000, 1.0000,\n",
              "        1.0000, 1.0000, 1.0000, 1.0000, 1.0000, 1.0000, 1.0000, 1.0000, 1.0000,\n",
              "        1.0000])"
            ]
          },
          "metadata": {},
          "execution_count": 119
        }
      ]
    },
    {
      "cell_type": "code",
      "source": [
        ""
      ],
      "metadata": {
        "id": "YCoa_RVEMAKb"
      },
      "execution_count": null,
      "outputs": []
    }
  ],
  "metadata": {
    "kernelspec": {
      "display_name": "Python 3 (ipykernel)",
      "language": "python",
      "name": "python3"
    },
    "language_info": {
      "codemirror_mode": {
        "name": "ipython",
        "version": 3
      },
      "file_extension": ".py",
      "mimetype": "text/x-python",
      "name": "python",
      "nbconvert_exporter": "python",
      "pygments_lexer": "ipython3",
      "version": "3.9.7"
    },
    "colab": {
      "name": "TP2_BayesianModel_MNIST_EVG.ipynb",
      "provenance": [],
      "collapsed_sections": [],
      "include_colab_link": true
    }
  },
  "nbformat": 4,
  "nbformat_minor": 0
}